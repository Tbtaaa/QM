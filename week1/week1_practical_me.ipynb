{
 "cells": [
  {
   "cell_type": "code",
   "execution_count": null,
   "id": "4390c35a-c1c3-42d1-85b0-ce348f8cf644",
   "metadata": {},
   "outputs": [],
   "source": [
    "## IMPORT CSV FILE\n",
    "## df_pop is the name of the imported file\n",
    "## pandas is now pd"
   ]
  },
  {
   "cell_type": "code",
   "execution_count": 3,
   "id": "27e15083-157d-4a97-a5db-c346044d9097",
   "metadata": {},
   "outputs": [
    {
     "name": "stdout",
     "output_type": "stream",
     "text": [
      "   Area code          Area name Area type  Population 2011  Population 2021  \\\n",
      "0  K04000001  England and Wales  National       56075912.0       59597542.0   \n",
      "1  E92000001            England   Country       53012456.0       56490048.0   \n",
      "2  W92000004              Wales   Country        3063456.0        3107494.0   \n",
      "3  E12000001         North East    Region        2596886.0        2647013.0   \n",
      "4  E12000002         North West    Region        7052177.0        7417397.0   \n",
      "\n",
      "   Percentage change  \n",
      "0                6.3  \n",
      "1                6.6  \n",
      "2                1.4  \n",
      "3                1.9  \n",
      "4                5.2  \n"
     ]
    }
   ],
   "source": [
    "import pandas as pd\n",
    "\n",
    "# Read CSV file, skipping first 5 rows, using row 6 as header, and handling comma as thousands separator\n",
    "df_pop = pd.read_csv(\n",
    "    'mapdatadownload.csv',\n",
    "    skiprows=5,        # Skip first 5 rows. Wnhy?\n",
    "    thousands=',',     # Interpret commas as thousands separators\n",
    "    header=0,           # After skipping, the first row becomes the header\n",
    "    encoding='latin1' \n",
    ")\n",
    "\n",
    "print(df_pop.head())"
   ]
  },
  {
   "cell_type": "code",
   "execution_count": 4,
   "id": "5d586381-b135-4619-b375-0050f608f658",
   "metadata": {},
   "outputs": [],
   "source": [
    "## SEE SOME OF THE ROWS\n",
    "## head() is a function, so it needs ()"
   ]
  },
  {
   "cell_type": "code",
   "execution_count": 5,
   "id": "c43113b0-d6ab-4a9f-a745-1daa9d88a7bc",
   "metadata": {},
   "outputs": [
    {
     "data": {
      "text/html": [
       "<div>\n",
       "<style scoped>\n",
       "    .dataframe tbody tr th:only-of-type {\n",
       "        vertical-align: middle;\n",
       "    }\n",
       "\n",
       "    .dataframe tbody tr th {\n",
       "        vertical-align: top;\n",
       "    }\n",
       "\n",
       "    .dataframe thead th {\n",
       "        text-align: right;\n",
       "    }\n",
       "</style>\n",
       "<table border=\"1\" class=\"dataframe\">\n",
       "  <thead>\n",
       "    <tr style=\"text-align: right;\">\n",
       "      <th></th>\n",
       "      <th>Area code</th>\n",
       "      <th>Area name</th>\n",
       "      <th>Area type</th>\n",
       "      <th>Population 2011</th>\n",
       "      <th>Population 2021</th>\n",
       "      <th>Percentage change</th>\n",
       "    </tr>\n",
       "  </thead>\n",
       "  <tbody>\n",
       "    <tr>\n",
       "      <th>0</th>\n",
       "      <td>K04000001</td>\n",
       "      <td>England and Wales</td>\n",
       "      <td>National</td>\n",
       "      <td>56075912.0</td>\n",
       "      <td>59597542.0</td>\n",
       "      <td>6.3</td>\n",
       "    </tr>\n",
       "    <tr>\n",
       "      <th>1</th>\n",
       "      <td>E92000001</td>\n",
       "      <td>England</td>\n",
       "      <td>Country</td>\n",
       "      <td>53012456.0</td>\n",
       "      <td>56490048.0</td>\n",
       "      <td>6.6</td>\n",
       "    </tr>\n",
       "    <tr>\n",
       "      <th>2</th>\n",
       "      <td>W92000004</td>\n",
       "      <td>Wales</td>\n",
       "      <td>Country</td>\n",
       "      <td>3063456.0</td>\n",
       "      <td>3107494.0</td>\n",
       "      <td>1.4</td>\n",
       "    </tr>\n",
       "    <tr>\n",
       "      <th>3</th>\n",
       "      <td>E12000001</td>\n",
       "      <td>North East</td>\n",
       "      <td>Region</td>\n",
       "      <td>2596886.0</td>\n",
       "      <td>2647013.0</td>\n",
       "      <td>1.9</td>\n",
       "    </tr>\n",
       "    <tr>\n",
       "      <th>4</th>\n",
       "      <td>E12000002</td>\n",
       "      <td>North West</td>\n",
       "      <td>Region</td>\n",
       "      <td>7052177.0</td>\n",
       "      <td>7417397.0</td>\n",
       "      <td>5.2</td>\n",
       "    </tr>\n",
       "  </tbody>\n",
       "</table>\n",
       "</div>"
      ],
      "text/plain": [
       "   Area code          Area name Area type  Population 2011  Population 2021  \\\n",
       "0  K04000001  England and Wales  National       56075912.0       59597542.0   \n",
       "1  E92000001            England   Country       53012456.0       56490048.0   \n",
       "2  W92000004              Wales   Country        3063456.0        3107494.0   \n",
       "3  E12000001         North East    Region        2596886.0        2647013.0   \n",
       "4  E12000002         North West    Region        7052177.0        7417397.0   \n",
       "\n",
       "   Percentage change  \n",
       "0                6.3  \n",
       "1                6.6  \n",
       "2                1.4  \n",
       "3                1.9  \n",
       "4                5.2  "
      ]
     },
     "execution_count": 5,
     "metadata": {},
     "output_type": "execute_result"
    }
   ],
   "source": [
    "df_pop.head()"
   ]
  },
  {
   "cell_type": "code",
   "execution_count": 6,
   "id": "cb338fe8-998c-49da-9c71-ebe3ac2ceb0f",
   "metadata": {},
   "outputs": [],
   "source": [
    "## WHICH COLUMNS ARE THERE?\n",
    "## columns is an attribute and \"list\" give us a list"
   ]
  },
  {
   "cell_type": "code",
   "execution_count": 7,
   "id": "f59180a6-7ad6-44cc-9485-0564c524f610",
   "metadata": {
    "scrolled": true
   },
   "outputs": [
    {
     "data": {
      "text/plain": [
       "['Area code',\n",
       " 'Area name',\n",
       " 'Area type',\n",
       " 'Population 2011',\n",
       " 'Population 2021',\n",
       " 'Percentage change']"
      ]
     },
     "execution_count": 7,
     "metadata": {},
     "output_type": "execute_result"
    }
   ],
   "source": [
    "list(df_pop.columns)"
   ]
  },
  {
   "cell_type": "code",
   "execution_count": 8,
   "id": "98c20dad-ea47-4745-bfe1-68f643d6e90f",
   "metadata": {},
   "outputs": [],
   "source": [
    "## BLANCK SPACES -> _\n",
    "## .str.replace() replace something in the text\n",
    "## r'\\s+' regex means blank spaces\n",
    "    ## r means raw atring\n",
    "    ## \\s means blank space\n",
    "    ## + means more than one\n",
    "## '_' to replace with\n",
    "## regex=True to treat regex as a pattern, no just one case"
   ]
  },
  {
   "cell_type": "code",
   "execution_count": 9,
   "id": "64e7175b-e132-4ef6-a390-ddcda0921299",
   "metadata": {},
   "outputs": [
    {
     "name": "stdout",
     "output_type": "stream",
     "text": [
      "['Area_code', 'Area_name', 'Area_type', 'Population_2011', 'Population_2021', 'Percentage_change']\n"
     ]
    }
   ],
   "source": [
    "df_pop.columns = df_pop.columns.str.replace(r'\\s+', '_', regex=True)\n",
    "print(list(df_pop.columns)) # check again"
   ]
  },
  {
   "cell_type": "code",
   "execution_count": 10,
   "id": "0a236d20-4feb-4e34-9838-f1bf9e13716c",
   "metadata": {},
   "outputs": [],
   "source": [
    "## HOW MANY ROWS AND COLUMNS?\n",
    "## f allows {} to be replace for variables, expressions o functions"
   ]
  },
  {
   "cell_type": "code",
   "execution_count": 11,
   "id": "37523a35-883e-46df-a5b7-3142321434fc",
   "metadata": {},
   "outputs": [
    {
     "name": "stdout",
     "output_type": "stream",
     "text": [
      "Rows: 369, Columns: 6\n"
     ]
    }
   ],
   "source": [
    "rows, cols = df_pop.shape\n",
    "print(f\"Rows: {rows}, Columns: {cols}\")"
   ]
  },
  {
   "cell_type": "code",
   "execution_count": 12,
   "id": "e2f49618-d56c-4da0-9363-f11adf7288fb",
   "metadata": {},
   "outputs": [],
   "source": [
    "## CHECK THE AREA_TYPE COLUMN\n",
    "## .value_counts() is also a function"
   ]
  },
  {
   "cell_type": "code",
   "execution_count": 13,
   "id": "92b6554e-5b68-4fb0-9cc9-82a7e46168e1",
   "metadata": {},
   "outputs": [
    {
     "name": "stdout",
     "output_type": "stream",
     "text": [
      "Area_type\n",
      "Local Authority    355\n",
      "Region               9\n",
      "Country              2\n",
      "National             1\n",
      "Name: count, dtype: int64\n"
     ]
    }
   ],
   "source": [
    "print(df_pop.Area_type.value_counts())"
   ]
  },
  {
   "cell_type": "code",
   "execution_count": 14,
   "id": "1d192601-3272-447c-8000-7e1ab03678f8",
   "metadata": {},
   "outputs": [],
   "source": [
    "## FOCUS ON LOCAL AUTHORITY\n",
    "## df_pop_la is a new variable\n",
    "## df_pop['Area_type'] == 'Local Authority' selects this condition\n",
    "## df_pop[...] is a boolean where area_type == local authority is true"
   ]
  },
  {
   "cell_type": "code",
   "execution_count": 15,
   "id": "31282d4c-b80e-4238-939a-712c24e4871e",
   "metadata": {},
   "outputs": [],
   "source": [
    "df_pop_la = df_pop[df_pop['Area_type'] == 'Local Authority']"
   ]
  },
  {
   "cell_type": "code",
   "execution_count": null,
   "id": "1735d2f0-5c27-4080-a7e6-58e0a506cd29",
   "metadata": {},
   "outputs": [],
   "source": [
    "## OVERVIEW OF THE COLUMNS\n",
    "## INFO COUNTS NON-NULL COUNTS\n",
    "## DESCRIBE COUNTS NUMERIC DATA"
   ]
  },
  {
   "cell_type": "code",
   "execution_count": 15,
   "id": "65bccdcb-8c4d-4027-acd5-ee17e5b723f0",
   "metadata": {},
   "outputs": [
    {
     "name": "stdout",
     "output_type": "stream",
     "text": [
      "<class 'pandas.core.frame.DataFrame'>\n",
      "Index: 355 entries, 12 to 366\n",
      "Data columns (total 6 columns):\n",
      " #   Column             Non-Null Count  Dtype  \n",
      "---  ------             --------------  -----  \n",
      " 0   Area_code          355 non-null    object \n",
      " 1   Area_name          355 non-null    object \n",
      " 2   Area_type          355 non-null    object \n",
      " 3   Population_2011    355 non-null    float64\n",
      " 4   Population_2021    355 non-null    float64\n",
      " 5   Percentage_change  355 non-null    float64\n",
      "dtypes: float64(3), object(3)\n",
      "memory usage: 19.4+ KB\n",
      "None\n",
      "       Population_2011  Population_2021  Percentage_change\n",
      "count     3.550000e+02     3.550000e+02         355.000000\n",
      "mean      2.132867e+05     2.268876e+05           6.070423\n",
      "std       2.099628e+05     2.245442e+05           4.608338\n",
      "min       2.203000e+03     2.054000e+03          -9.600000\n",
      "25%       1.000530e+05     1.055705e+05           2.950000\n",
      "50%       1.382650e+05     1.477760e+05           5.800000\n",
      "75%       2.487865e+05     2.628895e+05           9.000000\n",
      "max       1.463740e+06     1.576069e+06          22.100000\n"
     ]
    }
   ],
   "source": [
    "print(df_pop_la.info())\n",
    "print(df_pop_la.describe())"
   ]
  },
  {
   "cell_type": "code",
   "execution_count": null,
   "id": "b77b8d40-4e6c-4ed8-b8fa-cec906203ad9",
   "metadata": {},
   "outputs": [],
   "source": [
    "## MAXIMUM POPULATION SIZE IN 2021?\n",
    "## df_pop_la['Population_2021'] to focus un that column\n",
    "## .max(skipna=True) to ignore NA o NULL values"
   ]
  },
  {
   "cell_type": "code",
   "execution_count": 16,
   "id": "e94d7ac4-b2d2-450b-9c50-baa41882069e",
   "metadata": {},
   "outputs": [
    {
     "name": "stdout",
     "output_type": "stream",
     "text": [
      "Max population:  1576069.0\n"
     ]
    }
   ],
   "source": [
    "print(\"Max population: \", df_pop_la['Population_2021'].max(skipna=True))"
   ]
  },
  {
   "cell_type": "code",
   "execution_count": 16,
   "id": "43abf0cc-adb6-423e-8538-f3464b7c7ea3",
   "metadata": {},
   "outputs": [],
   "source": [
    "## WHICH LAs HAVE THE MAXIMUM POPULATION SIZE\n",
    "## df_pop_la.loc[ ... , 'Area_name'] select the column 'Area_name' for ... this condition\n",
    "    ## .loc localize label\n",
    "    ## df_pop_la['Population_2021'] == df_pop_la['Population_2021'].max(skipna=True) this is the condition\n",
    "## df_pop_la['Population_2021'].max(skipna=True)) for the number"
   ]
  },
  {
   "cell_type": "code",
   "execution_count": 17,
   "id": "462a096a-1686-427d-82c8-75cca5d4c542",
   "metadata": {},
   "outputs": [
    {
     "name": "stdout",
     "output_type": "stream",
     "text": [
      "Kent have the maximum population of 1576069.0\n"
     ]
    }
   ],
   "source": [
    "print(\"{} have the maximum population of {}\".format(\n",
    "    \", \".join(df_pop_la.loc[df_pop_la['Population_2021'] == df_pop_la['Population_2021'].max(skipna=True), 'Area_name']), \n",
    "    df_pop_la['Population_2021'].max(skipna=True))\n",
    "    )"
   ]
  },
  {
   "cell_type": "code",
   "execution_count": null,
   "id": "7b5cc2f5-8da3-4e7c-a466-87d8782b526d",
   "metadata": {},
   "outputs": [],
   "source": [
    "## WHICH LAs HAVE THE MINIMUN POPULATION SIZE"
   ]
  },
  {
   "cell_type": "code",
   "execution_count": 18,
   "id": "a21a987c-aae2-45ad-bb20-7c5f2fd71b3b",
   "metadata": {},
   "outputs": [
    {
     "name": "stdout",
     "output_type": "stream",
     "text": [
      "Isles of Scilly have the minimum population of 2054.0\n"
     ]
    }
   ],
   "source": [
    "print(\"{} have the minimum population of {}\".format(\n",
    "    \", \".join(df_pop_la.loc[df_pop_la['Population_2021'] == df_pop_la['Population_2021'].min(skipna=True), 'Area_name']), \n",
    "    df_pop_la['Population_2021'].min(skipna=True))\n",
    "    )"
   ]
  },
  {
   "cell_type": "code",
   "execution_count": null,
   "id": "d6616429-a59e-421c-9259-8e047652ba13",
   "metadata": {},
   "outputs": [],
   "source": [
    "## STANDAR DEVIATION"
   ]
  },
  {
   "cell_type": "code",
   "execution_count": 19,
   "id": "894f95da-3d94-45b1-bab5-a4b2e490cb89",
   "metadata": {},
   "outputs": [
    {
     "data": {
      "text/html": [
       "<div>\n",
       "<style scoped>\n",
       "    .dataframe tbody tr th:only-of-type {\n",
       "        vertical-align: middle;\n",
       "    }\n",
       "\n",
       "    .dataframe tbody tr th {\n",
       "        vertical-align: top;\n",
       "    }\n",
       "\n",
       "    .dataframe thead th {\n",
       "        text-align: right;\n",
       "    }\n",
       "</style>\n",
       "<table border=\"1\" class=\"dataframe\">\n",
       "  <thead>\n",
       "    <tr style=\"text-align: right;\">\n",
       "      <th></th>\n",
       "      <th>Population_2011</th>\n",
       "      <th>Population_2021</th>\n",
       "      <th>Percentage_change</th>\n",
       "    </tr>\n",
       "  </thead>\n",
       "  <tbody>\n",
       "    <tr>\n",
       "      <th>count</th>\n",
       "      <td>3.550000e+02</td>\n",
       "      <td>3.550000e+02</td>\n",
       "      <td>355.000000</td>\n",
       "    </tr>\n",
       "    <tr>\n",
       "      <th>mean</th>\n",
       "      <td>2.132867e+05</td>\n",
       "      <td>2.268876e+05</td>\n",
       "      <td>6.070423</td>\n",
       "    </tr>\n",
       "    <tr>\n",
       "      <th>std</th>\n",
       "      <td>2.099628e+05</td>\n",
       "      <td>2.245442e+05</td>\n",
       "      <td>4.608338</td>\n",
       "    </tr>\n",
       "    <tr>\n",
       "      <th>min</th>\n",
       "      <td>2.203000e+03</td>\n",
       "      <td>2.054000e+03</td>\n",
       "      <td>-9.600000</td>\n",
       "    </tr>\n",
       "    <tr>\n",
       "      <th>25%</th>\n",
       "      <td>1.000530e+05</td>\n",
       "      <td>1.055705e+05</td>\n",
       "      <td>2.950000</td>\n",
       "    </tr>\n",
       "    <tr>\n",
       "      <th>50%</th>\n",
       "      <td>1.382650e+05</td>\n",
       "      <td>1.477760e+05</td>\n",
       "      <td>5.800000</td>\n",
       "    </tr>\n",
       "    <tr>\n",
       "      <th>75%</th>\n",
       "      <td>2.487865e+05</td>\n",
       "      <td>2.628895e+05</td>\n",
       "      <td>9.000000</td>\n",
       "    </tr>\n",
       "    <tr>\n",
       "      <th>max</th>\n",
       "      <td>1.463740e+06</td>\n",
       "      <td>1.576069e+06</td>\n",
       "      <td>22.100000</td>\n",
       "    </tr>\n",
       "  </tbody>\n",
       "</table>\n",
       "</div>"
      ],
      "text/plain": [
       "       Population_2011  Population_2021  Percentage_change\n",
       "count     3.550000e+02     3.550000e+02         355.000000\n",
       "mean      2.132867e+05     2.268876e+05           6.070423\n",
       "std       2.099628e+05     2.245442e+05           4.608338\n",
       "min       2.203000e+03     2.054000e+03          -9.600000\n",
       "25%       1.000530e+05     1.055705e+05           2.950000\n",
       "50%       1.382650e+05     1.477760e+05           5.800000\n",
       "75%       2.487865e+05     2.628895e+05           9.000000\n",
       "max       1.463740e+06     1.576069e+06          22.100000"
      ]
     },
     "execution_count": 19,
     "metadata": {},
     "output_type": "execute_result"
    }
   ],
   "source": [
    "df_pop_la.describe()"
   ]
  },
  {
   "cell_type": "code",
   "execution_count": 20,
   "id": "10ea06e6-ecaf-410c-aedb-fcd31e1276c5",
   "metadata": {},
   "outputs": [
    {
     "name": "stdout",
     "output_type": "stream",
     "text": [
      "The standard deviation of Population_2021 is: 224544.20636612535\n",
      "Using scientific notation: 2.245e+05\n",
      "Using thousands separator notation: 224,544.21\n"
     ]
    }
   ],
   "source": [
    "std_dev = df_pop_la['Population_2021'].std()\n",
    "# plain notation\n",
    "print(\"The standard deviation of Population_2021 is: {}\".format(std_dev)) \n",
    "# scientific notation\n",
    "print(\"Using scientific notation: {:.3e}\".format(std_dev)) \n",
    "# thousands separator notation + 2 decimal places\n",
    "print(\"Using thousands separator notation: {:,.2f}\".format(std_dev))"
   ]
  },
  {
   "cell_type": "code",
   "execution_count": null,
   "id": "c92c669a-e03c-47ef-9551-00c5c1008c93",
   "metadata": {},
   "outputs": [],
   "source": [
    "## NULL VALUES OR OUTLIERS??"
   ]
  },
  {
   "cell_type": "code",
   "execution_count": 21,
   "id": "da3d6844-c66b-49dc-ac8c-0158d87bf27d",
   "metadata": {},
   "outputs": [
    {
     "name": "stdout",
     "output_type": "stream",
     "text": [
      "Lower bound: -130408.0\n",
      "Upper bound: 498868.0\n",
      "How many outliers? 33\n",
      "Outliers:\n",
      "      Area_code        Area_name        Area_type  Population_2011  \\\n",
      "56   E06000047    County Durham  Local Authority         513242.0   \n",
      "60   E06000052         Cornwall  Local Authority         532273.0   \n",
      "62   E06000054        Wiltshire  Local Authority         470981.0   \n",
      "68   E06000060  Buckinghamshire  Local Authority         505283.0   \n",
      "254  E08000003       Manchester  Local Authority         503127.0   \n",
      "270  E08000019        Sheffield  Local Authority         552698.0   \n",
      "275  E08000025       Birmingham  Local Authority        1073045.0   \n",
      "282  E08000032         Bradford  Local Authority         522452.0   \n",
      "285  E08000035            Leeds  Local Authority         751485.0   \n",
      "321  E10000003   Cambridgeshire  Local Authority         621210.0   \n",
      "322  E10000006          Cumbria  Local Authority         499858.0   \n",
      "323  E10000007       Derbyshire  Local Authority         769686.0   \n",
      "324  E10000008            Devon  Local Authority         746399.0   \n",
      "325  E10000011      East Sussex  Local Authority         526671.0   \n",
      "326  E10000012            Essex  Local Authority        1393587.0   \n",
      "327  E10000013  Gloucestershire  Local Authority         596984.0   \n",
      "328  E10000014        Hampshire  Local Authority        1317788.0   \n",
      "329  E10000015    Hertfordshire  Local Authority        1116062.0   \n",
      "330  E10000016             Kent  Local Authority        1463740.0   \n",
      "331  E10000017       Lancashire  Local Authority        1171339.0   \n",
      "332  E10000018   Leicestershire  Local Authority         650489.0   \n",
      "333  E10000019     Lincolnshire  Local Authority         713653.0   \n",
      "334  E10000020          Norfolk  Local Authority         857888.0   \n",
      "335  E10000023  North Yorkshire  Local Authority         598376.0   \n",
      "336  E10000024  Nottinghamshire  Local Authority         785802.0   \n",
      "337  E10000025      Oxfordshire  Local Authority         653798.0   \n",
      "338  E10000027         Somerset  Local Authority         529972.0   \n",
      "339  E10000028    Staffordshire  Local Authority         848489.0   \n",
      "340  E10000029          Suffolk  Local Authority         728163.0   \n",
      "341  E10000030           Surrey  Local Authority        1132390.0   \n",
      "342  E10000031     Warwickshire  Local Authority         545474.0   \n",
      "343  E10000032      West Sussex  Local Authority         806892.0   \n",
      "344  E10000034   Worcestershire  Local Authority         566169.0   \n",
      "\n",
      "     Population_2021  Percentage_change  \n",
      "56          522068.0                1.7  \n",
      "60          570305.0                7.1  \n",
      "62          510330.0                8.4  \n",
      "68          553078.0                9.5  \n",
      "254         551938.0                9.7  \n",
      "270         556521.0                0.7  \n",
      "275        1144919.0                6.7  \n",
      "282         546412.0                4.6  \n",
      "285         811953.0                8.0  \n",
      "321         678849.0                9.3  \n",
      "322         499846.0                0.0  \n",
      "323         794636.0                3.2  \n",
      "324         811640.0                8.7  \n",
      "325         545847.0                3.6  \n",
      "326        1503521.0                7.9  \n",
      "327         645076.0                8.1  \n",
      "328        1400899.0                6.3  \n",
      "329        1198798.0                7.4  \n",
      "330        1576069.0                7.7  \n",
      "331        1235354.0                5.5  \n",
      "332         712366.0                9.5  \n",
      "333         768364.0                7.7  \n",
      "334         916120.0                6.8  \n",
      "335         615491.0                2.9  \n",
      "336         824822.0                5.0  \n",
      "337         725291.0               10.9  \n",
      "338         571547.0                7.8  \n",
      "339         876104.0                3.3  \n",
      "340         760688.0                4.5  \n",
      "341        1203108.0                6.2  \n",
      "342         596773.0                9.4  \n",
      "343         882676.0                9.4  \n",
      "344         603676.0                6.6  \n"
     ]
    }
   ],
   "source": [
    "# Calculate Q1, Q3, and IQR\n",
    "Q1 = df_pop_la['Population_2021'].quantile(0.25)\n",
    "Q3 = df_pop_la['Population_2021'].quantile(0.75)\n",
    "IQR = Q3 - Q1\n",
    "\n",
    "# Tukey's fences\n",
    "lower_bound = Q1 - 1.5 * IQR\n",
    "upper_bound = Q3 + 1.5 * IQR\n",
    "\n",
    "# Detect outliers\n",
    "outliers = df_pop_la[\n",
    "    (df_pop_la['Population_2021'] < lower_bound) |\n",
    "    (df_pop_la['Population_2021'] > upper_bound)\n",
    "]\n",
    "\n",
    "print(\"Lower bound:\", lower_bound)\n",
    "print(\"Upper bound:\", upper_bound)\n",
    "print(\"How many outliers?\", outliers.shape[0])\n",
    "print(\"Outliers:\\n\", outliers)"
   ]
  },
  {
   "cell_type": "code",
   "execution_count": null,
   "id": "43fb2974-cfc6-4a34-a100-22014d1645bc",
   "metadata": {},
   "outputs": [],
   "source": [
    "$$ CREATE A BOXPLOT"
   ]
  },
  {
   "cell_type": "code",
   "execution_count": 22,
   "id": "a7286354-bc3e-4738-a2c1-52a08955cbc0",
   "metadata": {},
   "outputs": [
    {
     "data": {
      "image/png": "[encoded data removed]",
      "text/plain": [
       "<Figure size 640x480 with 1 Axes>"
      ]
     },
     "metadata": {},
     "output_type": "display_data"
    }
   ],
   "source": [
    "import matplotlib.pyplot as plt\n",
    "\n",
    "# Create boxplot\n",
    "df_pop_la['Population_2021'].plot(kind='box', title='LA Population 2021 Boxplot')\n",
    "\n",
    "plt.ylabel('Population')\n",
    "plt.grid(axis='y', linestyle='--', alpha=0.6)\n",
    "plt.show()"
   ]
  },
  {
   "cell_type": "code",
   "execution_count": null,
   "id": "50629eda-ed50-4640-a5d5-0ff2103da48f",
   "metadata": {},
   "outputs": [],
   "source": [
    "################################PRACTICE"
   ]
  },
  {
   "cell_type": "code",
   "execution_count": null,
   "id": "7e89d4fe-390d-41e3-9caa-9559e6aff8c6",
   "metadata": {},
   "outputs": [],
   "source": [
    "# Which LAs experienced the largest population percentage change? To what extent?"
   ]
  },
  {
   "cell_type": "code",
   "execution_count": 23,
   "id": "6b1b13f7-9b24-4a44-bb2f-00be2ea3a0fb",
   "metadata": {},
   "outputs": [
    {
     "name": "stdout",
     "output_type": "stream",
     "text": [
      "Tower Hamlets have the largest population percentage change of 22.1%\n"
     ]
    }
   ],
   "source": [
    "print(\"{} have the largest population percentage change of {}%\".format(\n",
    "    \", \".join(df_pop_la.loc[df_pop_la['Percentage_change'] == df_pop_la['Percentage_change'].max(skipna=True), 'Area_name']), \n",
    "    df_pop_la['Percentage_change'].max(skipna=True))\n",
    "    )"
   ]
  },
  {
   "cell_type": "code",
   "execution_count": null,
   "id": "7c1c2a44-2cde-4ee8-b434-2c3de3ecee0e",
   "metadata": {},
   "outputs": [],
   "source": [
    "# Which LAs experienced the smallest population percentage change? To what extent?"
   ]
  },
  {
   "cell_type": "code",
   "execution_count": 25,
   "id": "73e6061c-974b-4e45-9b54-de001393b44f",
   "metadata": {},
   "outputs": [
    {
     "name": "stdout",
     "output_type": "stream",
     "text": [
      "Kensington and Chelsea have the smallest population percentage change of -9.6%\n"
     ]
    }
   ],
   "source": [
    "print(\"{} have the smallest population percentage change of {}%\".format(\n",
    "    \", \".join(df_pop_la.loc[df_pop_la['Percentage_change'] == df_pop_la['Percentage_change'].min(skipna=True), 'Area_name']), \n",
    "    df_pop_la['Percentage_change'].min(skipna=True))\n",
    "    )"
   ]
  },
  {
   "cell_type": "code",
   "execution_count": null,
   "id": "7667ff50-79dc-4e2f-b1c3-6198aef3d0de",
   "metadata": {},
   "outputs": [],
   "source": [
    "# Making a boxplot of Percentage_change"
   ]
  },
  {
   "cell_type": "code",
   "execution_count": 27,
   "id": "7f7fda8a-dfec-4c1a-b913-fcb2551874c7",
   "metadata": {},
   "outputs": [
    {
     "data": {
      "image/png": "[encoded data removed]",
      "text/plain": [
       "<Figure size 640x480 with 1 Axes>"
      ]
     },
     "metadata": {},
     "output_type": "display_data"
    }
   ],
   "source": [
    "import matplotlib.pyplot as plt\n",
    "\n",
    "# Create boxplot\n",
    "df_pop_la['Percentage_change'].plot(kind='box', title='LA Population Percentage Change Boxplot')\n",
    "\n",
    "plt.ylabel('Percentage change')\n",
    "plt.grid(axis='y', linestyle='--', alpha=0.6)\n",
    "plt.show()"
   ]
  }
 ],
 "metadata": {
  "kernelspec": {
   "display_name": "Python 3 (ipykernel)",
   "language": "python",
   "name": "python3"
  },
  "language_info": {
   "codemirror_mode": {
    "name": "ipython",
    "version": 3
   },
   "file_extension": ".py",
   "mimetype": "text/x-python",
   "name": "python",
   "nbconvert_exporter": "python",
   "pygments_lexer": "ipython3",
   "version": "3.12.11"
  }
 },
 "nbformat": 4,
 "nbformat_minor": 5
}
